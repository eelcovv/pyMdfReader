{
 "cells": [
  {
   "cell_type": "markdown",
   "metadata": {
    "collapsed": true,
    "jupyter": {
     "outputs_hidden": true
    }
   },
   "source": [
    "# How to read MDF files in Python\n",
    "\n",
    "In this notebook, an example is given on how to read an MDF file using the Python *mlab_mdfreader* module. Firstly, this is done by just reading all the data at once. Next, it is demonstrated how to make a choice of channels to read such that the data reading time can be reduced significantly. \n",
    "\n",
    "But first, let's start with importing some modules and setting up the information logger. "
   ]
  },
  {
   "cell_type": "code",
   "execution_count": 1,
   "metadata": {
    "ExecuteTime": {
     "end_time": "2024-04-13T08:18:30.065497Z",
     "start_time": "2024-04-13T08:18:29.207566Z"
    }
   },
   "outputs": [],
   "source": [
    "import os\n",
    "import sys\n",
    "import funcy\n",
    "import matplotlib.pyplot as plt\n",
    "if \"..\" not in sys.path:\n",
    "    sys.path.append(\"..\")  # required to be able to run the notebook in the explorer\n",
    "\n",
    "import mdf_reader.mdf_parser as mdf\n",
    "\n",
    "file_name = \"data/AMS_BALDER_110225T233000_UTC222959.mdf\"\n",
    "if not os.path.exists(file_name):\n",
    "    file_name = os.path.join(\"..\", file_name)"
   ]
  },
  {
   "cell_type": "markdown",
   "metadata": {},
   "source": [
    "We are ready to read the mdf date by just creating a *MDFParser* object with the *file_name* as input. We put the *print_duration()* around the reader only to show how long the reader needs to import all the data, but this is not required"
   ]
  },
  {
   "cell_type": "code",
   "execution_count": 2,
   "metadata": {
    "ExecuteTime": {
     "end_time": "2024-04-13T08:19:34.149046Z",
     "start_time": "2024-04-13T08:19:15.219291Z"
    }
   },
   "outputs": [
    {
     "name": "stdout",
     "output_type": "stream",
     "text": [
      "Reading the mdf file ../data/AMS_BALDER_110225T233000_UTC222959.mdf\n"
     ]
    },
    {
     "name": "stderr",
     "output_type": "stream",
     "text": [
      "/home/eelco/PycharmProjects/Personal/pyMdfReader/src/mdf_reader/mdf_parser.py:538: PerformanceWarning: DataFrame is highly fragmented.  This is usually the result of calling `frame.insert` many times, which has poor performance.  Consider joining all columns at once using pd.concat(axis=1) instead. To get a de-fragmented frame, use `newframe = frame.copy()`\n",
      "  self.data[record.name] = np_data\n",
      "/home/eelco/PycharmProjects/Personal/pyMdfReader/src/mdf_reader/mdf_parser.py:538: PerformanceWarning: DataFrame is highly fragmented.  This is usually the result of calling `frame.insert` many times, which has poor performance.  Consider joining all columns at once using pd.concat(axis=1) instead. To get a de-fragmented frame, use `newframe = frame.copy()`\n",
      "  self.data[record.name] = np_data\n",
      "/home/eelco/PycharmProjects/Personal/pyMdfReader/src/mdf_reader/mdf_parser.py:538: PerformanceWarning: DataFrame is highly fragmented.  This is usually the result of calling `frame.insert` many times, which has poor performance.  Consider joining all columns at once using pd.concat(axis=1) instead. To get a de-fragmented frame, use `newframe = frame.copy()`\n",
      "  self.data[record.name] = np_data\n",
      "/home/eelco/PycharmProjects/Personal/pyMdfReader/src/mdf_reader/mdf_parser.py:538: PerformanceWarning: DataFrame is highly fragmented.  This is usually the result of calling `frame.insert` many times, which has poor performance.  Consider joining all columns at once using pd.concat(axis=1) instead. To get a de-fragmented frame, use `newframe = frame.copy()`\n",
      "  self.data[record.name] = np_data\n",
      "/home/eelco/PycharmProjects/Personal/pyMdfReader/src/mdf_reader/mdf_parser.py:538: PerformanceWarning: DataFrame is highly fragmented.  This is usually the result of calling `frame.insert` many times, which has poor performance.  Consider joining all columns at once using pd.concat(axis=1) instead. To get a de-fragmented frame, use `newframe = frame.copy()`\n",
      "  self.data[record.name] = np_data\n",
      "/home/eelco/PycharmProjects/Personal/pyMdfReader/src/mdf_reader/mdf_parser.py:538: PerformanceWarning: DataFrame is highly fragmented.  This is usually the result of calling `frame.insert` many times, which has poor performance.  Consider joining all columns at once using pd.concat(axis=1) instead. To get a de-fragmented frame, use `newframe = frame.copy()`\n",
      "  self.data[record.name] = np_data\n",
      "/home/eelco/PycharmProjects/Personal/pyMdfReader/src/mdf_reader/mdf_parser.py:538: PerformanceWarning: DataFrame is highly fragmented.  This is usually the result of calling `frame.insert` many times, which has poor performance.  Consider joining all columns at once using pd.concat(axis=1) instead. To get a de-fragmented frame, use `newframe = frame.copy()`\n",
      "  self.data[record.name] = np_data\n",
      "/home/eelco/PycharmProjects/Personal/pyMdfReader/src/mdf_reader/mdf_parser.py:538: PerformanceWarning: DataFrame is highly fragmented.  This is usually the result of calling `frame.insert` many times, which has poor performance.  Consider joining all columns at once using pd.concat(axis=1) instead. To get a de-fragmented frame, use `newframe = frame.copy()`\n",
      "  self.data[record.name] = np_data\n",
      "/home/eelco/PycharmProjects/Personal/pyMdfReader/src/mdf_reader/mdf_parser.py:538: PerformanceWarning: DataFrame is highly fragmented.  This is usually the result of calling `frame.insert` many times, which has poor performance.  Consider joining all columns at once using pd.concat(axis=1) instead. To get a de-fragmented frame, use `newframe = frame.copy()`\n",
      "  self.data[record.name] = np_data\n",
      "/home/eelco/PycharmProjects/Personal/pyMdfReader/src/mdf_reader/mdf_parser.py:538: PerformanceWarning: DataFrame is highly fragmented.  This is usually the result of calling `frame.insert` many times, which has poor performance.  Consider joining all columns at once using pd.concat(axis=1) instead. To get a de-fragmented frame, use `newframe = frame.copy()`\n",
      "  self.data[record.name] = np_data\n",
      "/home/eelco/PycharmProjects/Personal/pyMdfReader/src/mdf_reader/mdf_parser.py:538: PerformanceWarning: DataFrame is highly fragmented.  This is usually the result of calling `frame.insert` many times, which has poor performance.  Consider joining all columns at once using pd.concat(axis=1) instead. To get a de-fragmented frame, use `newframe = frame.copy()`\n",
      "  self.data[record.name] = np_data\n",
      "/home/eelco/PycharmProjects/Personal/pyMdfReader/src/mdf_reader/mdf_parser.py:538: PerformanceWarning: DataFrame is highly fragmented.  This is usually the result of calling `frame.insert` many times, which has poor performance.  Consider joining all columns at once using pd.concat(axis=1) instead. To get a de-fragmented frame, use `newframe = frame.copy()`\n",
      "  self.data[record.name] = np_data\n",
      "/home/eelco/PycharmProjects/Personal/pyMdfReader/src/mdf_reader/mdf_parser.py:538: PerformanceWarning: DataFrame is highly fragmented.  This is usually the result of calling `frame.insert` many times, which has poor performance.  Consider joining all columns at once using pd.concat(axis=1) instead. To get a de-fragmented frame, use `newframe = frame.copy()`\n",
      "  self.data[record.name] = np_data\n",
      "/home/eelco/PycharmProjects/Personal/pyMdfReader/src/mdf_reader/mdf_parser.py:538: PerformanceWarning: DataFrame is highly fragmented.  This is usually the result of calling `frame.insert` many times, which has poor performance.  Consider joining all columns at once using pd.concat(axis=1) instead. To get a de-fragmented frame, use `newframe = frame.copy()`\n",
      "  self.data[record.name] = np_data\n"
     ]
    },
    {
     "name": "stdout",
     "output_type": "stream",
     "text": [
      "   18.02 s in MDFParser\n",
      "Done\n",
      "<class 'pandas.core.frame.DataFrame'>\n",
      "DatetimeIndex: 45000 entries, 2011-02-25 23:30:00 to 2011-02-25 23:59:59.960000\n",
      "Columns: 115 entries, GPS_GGAQ to GPS_LongitudeDez\n",
      "dtypes: float64(94), int16(3), int64(11), uint16(6), uint64(1)\n",
      "memory usage: 37.5 MB\n"
     ]
    },
    {
     "name": "stderr",
     "output_type": "stream",
     "text": [
      "/home/eelco/PycharmProjects/Personal/pyMdfReader/src/mdf_reader/mdf_parser.py:538: PerformanceWarning: DataFrame is highly fragmented.  This is usually the result of calling `frame.insert` many times, which has poor performance.  Consider joining all columns at once using pd.concat(axis=1) instead. To get a de-fragmented frame, use `newframe = frame.copy()`\n",
      "  self.data[record.name] = np_data\n"
     ]
    }
   ],
   "source": [
    "print(\"Reading the mdf file {}\".format(file_name))\n",
    "# Add the Timer only to show how long the reader takes\n",
    "with funcy.print_durations(\"MDFParser\"):\n",
    "    mdf_obj = mdf.MDFParser(mdf_file=file_name)\n",
    "print(\"Done\")\n",
    "\n",
    "mdf_obj.data.info()\n"
   ]
  },
  {
   "cell_type": "markdown",
   "metadata": {},
   "source": [
    "The reading of an MDF file takes quite some time due to the binary conversion which needs to take place under the hood. In this case the reading time was 34 s. After we are done reading, all the data is stored in a pandas *DataFrame* which can be referred to as `mdf_obj.data`. We currently have loaded all 116 columns. \n",
    "\n",
    "We can have a look at the contents of the columns by using the *make_report()* method. This will show a table to screen with five columns:\n",
    "1. A counter referring to the index of the table\n",
    "2. An index referring to the position of the channel in the DataFrame\n",
    "3. A flag *Loaded* to show if this channel has been loaded (now all set to true)\n",
    "4. The (unique) record name is also used to refer to a channel in the DataFrame.\n",
    "5. The label of the record giving a small description of the channel.\n"
   ]
  },
  {
   "cell_type": "code",
   "execution_count": 3,
   "metadata": {},
   "outputs": [
    {
     "name": "stderr",
     "output_type": "stream",
     "text": [
      "cnt index Loaded : Name                                               : Label\n",
      "--- ----- ------ : -------------------------------------------------- : ------------------------------\n",
      "  0     0      1 : GPS_GGAQ                                           : Quality indicator\n",
      "  1     1      1 : GPS_GpsHour                                        : Hour\n",
      "  2     2      1 : GPS_GpsMin                                         : Minute\n",
      "  3     3      1 : GPS_GpsSec                                         : Second\n",
      "  4     4      1 : GPS_Modeindicator                                  : Mode indicator\n",
      "  5     5      1 : GPS_NoOfSats                                       : Numer of satellites\n",
      "  6     6      1 : Huisman_ComCheckCounter                            : Com check counter\n",
      "  7     7      1 : Huisman_Spare1                                     : Spare1\n",
      "  8     8      1 : S_Day                                              : Day\n",
      "  9     9      1 : S_Hour                                             : Hour\n",
      " 10    10      1 : S_Minutes                                          : Minutes\n",
      " 11    11      1 : S_Month                                            : Month\n",
      " 12    12      1 : S_Seconds                                          : Seconds\n",
      " 13    13      1 : S_Year                                             : Year\n",
      " 14    14      1 : GPS_TrueCOG                                        : True COG\n",
      " 15    15      1 : DateTime                                           : \n",
      " 16    16      1 : S_FrameCounter                                     : FrameCounter\n",
      " 17    17      1 : Huisman_Spare2                                     : Spare2\n",
      " 18    18      1 : DLS_ErrorCode                                      : ErrorCode\n",
      " 19    19      1 : GPS_ErrorCode                                      : ErrorCode\n",
      " 20    20      1 : GPS_WindAngle                                      : Anemometer Wind Angle\n",
      " 21    21      1 : MRU_ErrorCode                                      : ErrorCode\n",
      " 22    22      1 : Huisman_HotLoad                                    : Hot load\n",
      " 23    23      1 : Huisman_LoaderAngle                                : Loader Angle\n",
      " 24    24      1 : Huisman_LoaderLoad                                 : Loader load\n",
      " 25    25      1 : Huisman_TowerAngle                                 : Tower angle\n",
      " 26    26      1 : Huisman_TravelingBlockLoad                         : Traveling lock load\n",
      " 27    27      1 : Huisman_TravelingBlockPosition                     : Traveling lock position\n",
      " 28    28      1 : BALDER__UI0_A101_VI1                               : HZ3 - SG 01\n",
      " 29    29      1 : BALDER__UI0_A102_VI1                               : HZ3 - SG 02\n",
      " 30    30      1 : BALDER__UI0_A103_VI1                               : HZ3 - SG 03\n",
      " 31    31      1 : BALDER__UI0_A104_VI1                               : HZ3 - SG 04\n",
      " 32    32      1 : BALDER__UI0_A105_VI1                               : RX4 - SG 05\n",
      " 33    33      1 : BALDER__UI0_A106_VI1                               : RX4 - SG 06\n",
      " 34    34      1 : BALDER__UI0_A107_VI1                               : RX4 - SG 07\n",
      " 35    35      1 : BALDER__UI0_A108_VI1                               : RX4 - SG 08\n",
      " 36    36      1 : BALDER__UI0_A109_VI1                               : SL1 - SG 09\n",
      " 37    37      1 : BALDER__UI0_A110_VI1                               : SL1 - SG 10\n",
      " 38    38      1 : BALDER__UI0_A111_VI1                               : SL1 - SG 11\n",
      " 39    39      1 : BALDER__UI0_A112_VI1                               : SL1 - SG 12\n",
      " 40    40      1 : BALDER__UI0_A113_VI1                               : Q02 - SG 16\n",
      " 41    41      1 : BALDER__UI0_A114_VI1                               : Q02 - SG 17\n",
      " 42    42      1 : BALDER__UI0_A115_VI1                               : Q02 - SG 18\n",
      " 43    43      1 : BALDER__UI0_A116_VI1                               : Q02 - SG 19\n",
      " 44    44      1 : BALDER__UI1_A117_VI1                               : AD (SB) - SG 20\n",
      " 45    45      1 : BALDER__UI1_A118_VI1                               : AD (SB) - SG 21\n",
      " 46    46      1 : BALDER__UI1_A119_VI1                               : AD (SB) - SG 22\n",
      " 47    47      1 : BALDER__UI1_A120_VI1                               : AD (SB) - SG 23\n",
      " 48    48      1 : BALDER__UI1_A121_VI1                               : MAIN BRACE - SG 26\n",
      " 49    49      1 : BALDER__UI1_A122_VI1                               : MAIN BRACE - SG 27\n",
      " 50    50      1 : BALDER__UI1_A123_VI1                               : MAIN BRACE - SG 28\n",
      " 51    51      1 : BALDER__UI1_A124_VI1                               : MAIN BRACE - SG 29\n",
      " 52    52      1 : BALDER__UI1_A125_VI1                               : PIVot (SB) - SG 13\n",
      " 53    53      1 : BALDER__UI1_A126_VI1                               : PIVot (SB) - SG 14\n",
      " 54    54      1 : BALDER__UI1_A127_VI1                               : PIVot (SB) - SG 15\n",
      " 55    55      1 : BALDER__UI1_A128_VI1                               : AD (PS) - SG 24\n",
      " 56    56      1 : BALDER__UI1_A129_VI1                               : AD (PS) - SG 25\n",
      " 57    57      1 : BALDER__UI1_A130_VI1                               : HZ3 - AX - 02\n",
      " 58    58      1 : BALDER__UI1_A131_VI1                               : HZ3 - AY - 03\n",
      " 59    59      1 : BALDER__UI1_A132_VI1                               : RX4 - AX - 01\n",
      " 60    60      1 : BALDER__UI2_A133_VI1                               : COFF SB FWD - AX - 04\n",
      " 61    61      1 : BALDER__UI2_A134_VI1                               : COFF SB FWD - AY - 05\n",
      " 62    62      1 : BALDER__UI2_A135_VI1                               : COFF SB FWD - AZ- 06\n",
      " 63    63      1 : BALDER__UI2_A136_VI1                               : MAIN BRACE - AX - 07\n",
      " 64    64      1 : BALDER__UI2_A137_VI1                               : MAIN BRACE - AZ - 08\n",
      " 65    65      1 : BALDER__UI2_A138_VI1                               : Tower Head (PS) - AX - 10\n",
      " 66    66      1 : BALDER__UI2_A139_VI1                               : Tower Head (PS) - AY - 11\n",
      " 67    67      1 : BALDER__UI2_A140_VI1                               : Tower Head (SB) - AY - 09\n",
      " 68    68      1 : BALDER__UI2_A141_VI1                               : TSM - ACC 12 - AX\n",
      " 69    69      1 : BALDER__UI2_A142_VI1                               : TSM - ACC 13 - AY\n",
      " 70    70      1 : BALDER__UI2_A143_VI1                               : TSM - ACC 14 - AZ\n",
      " 71    71      1 : BALDER__UI2_A144_VI1                               : SPARE 01\n",
      " 72    72      1 : DLS_Draught                                        : Draught\n",
      " 73    73      1 : DLS_GoGL                                           : GoGL\n",
      " 74    74      1 : DLS_GoGT                                           : GoGT\n",
      " 75    75      1 : DLS_Heel                                           : Heel\n",
      " 76    76      1 : DLS_kxx                                            : kxx\n",
      " 77    77      1 : DLS_kyy                                            : kyy\n",
      " 78    78      1 : DLS_kzz                                            : kzz\n",
      " 79    79      1 : DLS_Lcg                                            : LCG\n",
      " 80    80      1 : DLS_Mass                                           : Mass\n",
      " 81    81      1 : DLS_PSBoomAng                                      : PS_BoomAngle\n",
      " 82    82      1 : DLS_PSHookSpd                                      : PS_HookSpeed\n",
      " 83    83      1 : DLS_PSJiAng                                        : PS_JiAngle\n",
      " 84    84      1 : DLS_PSLoad                                         : PS_Load\n",
      " 85    85      1 : DLS_PSLoadMom                                      : PS_LoadMom\n",
      " 86    86      1 : DLS_PSOutreach                                     : PS_Radius\n",
      " 87    87      1 : DLS_PSSelected                                     : PS_HookID\n",
      " 88    88      1 : DLS_PSSideLead                                     : PS_SideLead\n",
      " 89    89      1 : DLS_PSSlewAng                                      : PS_SlewAngle\n",
      " 90    90      1 : DLS_PSSlewSpd                                      : PS_SlewSpeed\n",
      " 91    91      1 : DLS_Realtime_simulation                            : DLS_Simul\n",
      " 92    92      1 : DLS_SBBoomAng                                      : SB_BoomAngle\n",
      " 93    93      1 : DLS_SBHookSpd                                      : SB_HookSpeed\n",
      " 94    94      1 : DLS_SBLoad                                         : SB_Load\n",
      " 95    95      1 : DLS_SBLoadMom                                      : SB_LoadMom\n",
      " 96    96      1 : DLS_SBOutreach                                     : SB_Radius\n",
      " 97    97      1 : DLS_SBSelected                                     : SB_HookID\n",
      " 98    98      1 : DLS_SBSideLead                                     : SB_SideLead\n",
      " 99    99      1 : DLS_SBSlewAng                                      : SB_SlewAngle\n",
      "100   100      1 : DLS_SBSlewSpd                                      : SB_SlewSpeed\n",
      "101   101      1 : DLS_Tcg                                            : TCG\n",
      "102   102      1 : DLS_Trim                                           : Trim\n",
      "103   103      1 : DLS_Vcg                                            : VCG\n",
      "104   104      1 : GPS_Altitude                                       : GPS_Altitude\n",
      "105   105      1 : GPS_Currentheading                                 : Gyro heading\n",
      "106   106      1 : GPS_ROT                                            : Gyro_ROT\n",
      "107   107      1 : GPS_SOGkn                                          : SOG kn\n",
      "108   108      1 : GPS_WindSpeed                                      : Anemometer Wind Speed\n",
      "109   109      1 : MRU_Date1970                                       : Date1970\n",
      "110   110      1 : MRU_Heave                                          : Heave\n",
      "111   111      1 : MRU_Roll                                           : Roll\n",
      "112   112      1 : GPS_GGAHDOP                                        : GPS-HDOP\n",
      "113   113      1 : MRU_Pitch                                          : Pitch\n",
      "114   114      1 : GPS_LatitudeDez                                    : Latitude Decimal\n",
      "115   115      1 : GPS_LongitudeDez                                   : Longitude Decimal\n"
     ]
    }
   ],
   "source": [
    "names = mdf_obj.make_report()"
   ]
  },
  {
   "cell_type": "markdown",
   "metadata": {},
   "source": [
    "As already mentioned, you can refer the dataframe as mdf_obj.data, and since this is a pandas DataFrame, we can use the pandas method *describe()* to give some statistical information on a channel. For instance, the MDF_Roll channel has the following statistics\n"
   ]
  },
  {
   "cell_type": "code",
   "execution_count": 4,
   "metadata": {
    "ExecuteTime": {
     "end_time": "2024-04-13T08:25:46.345640Z",
     "start_time": "2024-04-13T08:25:46.308449Z"
    }
   },
   "outputs": [
    {
     "data": {
      "text/plain": [
       "count    45000.00000\n",
       "mean         0.01136\n",
       "std          0.00306\n",
       "min          0.00254\n",
       "25%          0.01049\n",
       "50%          0.01219\n",
       "75%          0.01341\n",
       "max          0.01772\n",
       "Name: MRU_Roll, dtype: float64"
      ]
     },
     "execution_count": 4,
     "metadata": {},
     "output_type": "execute_result"
    }
   ],
   "source": [
    "mdf_obj.data[\"MRU_Roll\"].describe()"
   ]
  },
  {
   "cell_type": "markdown",
   "metadata": {},
   "source": [
    "Use the *values* attribute to get the raw numpy array data. The first five values of the roll are for instance \n"
   ]
  },
  {
   "cell_type": "code",
   "execution_count": 5,
   "metadata": {
    "ExecuteTime": {
     "end_time": "2024-04-13T08:25:49.307345Z",
     "start_time": "2024-04-13T08:25:49.297584Z"
    }
   },
   "outputs": [
    {
     "data": {
      "text/plain": [
       "array([0.01207, 0.01207, 0.01207, 0.01204, 0.01204])"
      ]
     },
     "execution_count": 5,
     "metadata": {},
     "output_type": "execute_result"
    }
   ],
   "source": [
    "mdf_obj.data[\"MRU_Roll\"].values[:5]"
   ]
  },
  {
   "cell_type": "markdown",
   "metadata": {},
   "source": [
    "These values could also be shown in the *Pandas* way using the *head* method. This will plot the column data vs the index, which by default is the Date/Time. Here we demonstrate how to show the head of multiple columns. Note that you pass the column selection in a list, hence the double []\n"
   ]
  },
  {
   "cell_type": "code",
   "execution_count": 6,
   "metadata": {
    "ExecuteTime": {
     "end_time": "2024-04-13T08:25:50.672395Z",
     "start_time": "2024-04-13T08:25:50.662934Z"
    }
   },
   "outputs": [
    {
     "data": {
      "text/html": [
       "<div>\n",
       "<style scoped>\n",
       "    .dataframe tbody tr th:only-of-type {\n",
       "        vertical-align: middle;\n",
       "    }\n",
       "\n",
       "    .dataframe tbody tr th {\n",
       "        vertical-align: top;\n",
       "    }\n",
       "\n",
       "    .dataframe thead th {\n",
       "        text-align: right;\n",
       "    }\n",
       "</style>\n",
       "<table border=\"1\" class=\"dataframe\">\n",
       "  <thead>\n",
       "    <tr style=\"text-align: right;\">\n",
       "      <th></th>\n",
       "      <th>MRU_Roll</th>\n",
       "      <th>MRU_Pitch</th>\n",
       "      <th>MRU_Heave</th>\n",
       "    </tr>\n",
       "    <tr>\n",
       "      <th>DateTime</th>\n",
       "      <th></th>\n",
       "      <th></th>\n",
       "      <th></th>\n",
       "    </tr>\n",
       "  </thead>\n",
       "  <tbody>\n",
       "    <tr>\n",
       "      <th>2011-02-25 23:30:00.000</th>\n",
       "      <td>0.01207</td>\n",
       "      <td>-0.000187</td>\n",
       "      <td>-0.1051</td>\n",
       "    </tr>\n",
       "    <tr>\n",
       "      <th>2011-02-25 23:30:00.040</th>\n",
       "      <td>0.01207</td>\n",
       "      <td>-0.000187</td>\n",
       "      <td>-0.1051</td>\n",
       "    </tr>\n",
       "    <tr>\n",
       "      <th>2011-02-25 23:30:00.080</th>\n",
       "      <td>0.01207</td>\n",
       "      <td>-0.000187</td>\n",
       "      <td>-0.1051</td>\n",
       "    </tr>\n",
       "    <tr>\n",
       "      <th>2011-02-25 23:30:00.120</th>\n",
       "      <td>0.01204</td>\n",
       "      <td>-0.000259</td>\n",
       "      <td>-0.1078</td>\n",
       "    </tr>\n",
       "    <tr>\n",
       "      <th>2011-02-25 23:30:00.160</th>\n",
       "      <td>0.01204</td>\n",
       "      <td>-0.000259</td>\n",
       "      <td>-0.1078</td>\n",
       "    </tr>\n",
       "  </tbody>\n",
       "</table>\n",
       "</div>"
      ],
      "text/plain": [
       "                         MRU_Roll  MRU_Pitch  MRU_Heave\n",
       "DateTime                                               \n",
       "2011-02-25 23:30:00.000   0.01207  -0.000187    -0.1051\n",
       "2011-02-25 23:30:00.040   0.01207  -0.000187    -0.1051\n",
       "2011-02-25 23:30:00.080   0.01207  -0.000187    -0.1051\n",
       "2011-02-25 23:30:00.120   0.01204  -0.000259    -0.1078\n",
       "2011-02-25 23:30:00.160   0.01204  -0.000259    -0.1078"
      ]
     },
     "execution_count": 6,
     "metadata": {},
     "output_type": "execute_result"
    }
   ],
   "source": [
    "\n",
    "mdf_obj.data[[\"MRU_Roll\", \"MRU_Pitch\", \"MRU_Heave\"]].head(5)\n"
   ]
  },
  {
   "cell_type": "markdown",
   "metadata": {},
   "source": [
    "\n",
    "\n",
    "## Speeding up the reading time\n",
    "\n",
    "Quite ofter we are not interested in loading all the columns, but we just need a selection. The *mdf_parser* makes this easier by allowing to split up the reading of the MDF file: first the MDF header can be imported quickly, and then we make a choice of channels and import only the requirement. This will reduce the reading time significantly. \n",
    "\n",
    "#### Selecting the columns based on a search string\n",
    "\n",
    "Start with reading the header of the file\n"
   ]
  },
  {
   "cell_type": "code",
   "execution_count": 7,
   "metadata": {
    "ExecuteTime": {
     "end_time": "2024-04-13T08:26:39.457853Z",
     "start_time": "2024-04-13T08:26:39.433354Z"
    }
   },
   "outputs": [
    {
     "name": "stdout",
     "output_type": "stream",
     "text": [
      "Reading header of ../data/AMS_BALDER_110225T233000_UTC222959.mdf\n",
      "    5.51 ms in MDFParser reading ../data/AMS_BALDER_110225T233000_UTC222959.mdf\n",
      "Done reading the header\n"
     ]
    }
   ],
   "source": [
    "# first read the header dat only to get the column names\n",
    "print(\"Reading header of {}\".format(file_name))\n",
    "with funcy.print_durations(f\"MDFParser reading {file_name}\"):\n",
    "    mdf_object = mdf.MDFParser(file_name, verbose=1, import_data=False)\n",
    "\n",
    "print(\"Done reading the header\")\n",
    "\n"
   ]
  },
  {
   "cell_type": "markdown",
   "metadata": {
    "collapsed": true,
    "jupyter": {
     "outputs_hidden": true
    }
   },
   "source": [
    "Since we had the import_data flag on False, the reading took only a few milliseconds. We can show the available data columns again by using the *make_report()* method just as we did above. The only difference is that the Loaded flag will be set to false\n",
    "\n",
    "Now we know what columns are available we can make a selection by using the `set_column_selection` method. Suppose we want to plot the Roll along the journey"
   ]
  },
  {
   "cell_type": "code",
   "execution_count": 8,
   "metadata": {
    "ExecuteTime": {
     "end_time": "2024-04-13T08:27:24.073973Z",
     "start_time": "2024-04-13T08:27:23.670333Z"
    }
   },
   "outputs": [
    {
     "name": "stdout",
     "output_type": "stream",
     "text": [
      "Importing the data from ../data/AMS_BALDER_110225T233000_UTC222959.mdf\n"
     ]
    },
    {
     "name": "stderr",
     "output_type": "stream",
     "text": [
      "cnt index Loaded : Name                                               : Label\n",
      "--- ----- ------ : -------------------------------------------------- : ------------------------------\n",
      "  0    15      1 : DateTime                                           : \n",
      "  1   111      1 : MRU_Roll                                           : Roll\n"
     ]
    },
    {
     "name": "stdout",
     "output_type": "stream",
     "text": [
      "  371.77 ms in MDFParser\n",
      "Done\n",
      "<class 'pandas.core.frame.DataFrame'>\n",
      "DatetimeIndex: 45000 entries, 2011-02-25 23:30:00 to 2011-02-25 23:59:59.960000\n",
      "Columns: 115 entries, GPS_GGAQ to GPS_LongitudeDez\n",
      "dtypes: float64(94), int16(3), int64(11), uint16(6), uint64(1)\n",
      "memory usage: 37.5 MB\n"
     ]
    }
   ],
   "source": [
    "\n",
    "mdf_object.set_column_selection(filter_list=[\"MRU_Roll\"], include_date_time=True)\n",
    "\n",
    "# now do the actual import\n",
    "print(\"Importing the data from {}\".format(file_name))\n",
    "with funcy.print_durations(\"MDFParser\"):\n",
    "    #    mdf_object.import_data()\n",
    "    mdf_object.import_data()\n",
    "\n",
    "print(\"Done\")\n",
    "mdf_obj.data.info()\n",
    "names2 = mdf_object.make_report(show_loaded_data_only=True)\n"
   ]
  },
  {
   "cell_type": "markdown",
   "metadata": {},
   "source": [
    "The *include_date_time* flag was added to automatically include the DateTime field if available. The DateTime will be assigned to the index of the DataFrame, so we can now plot the Roll vs date time"
   ]
  },
  {
   "cell_type": "code",
   "execution_count": null,
   "metadata": {
    "ExecuteTime": {
     "end_time": "2024-04-13T08:29:33.713254Z",
     "start_time": "2024-04-13T08:27:30.492408Z"
    }
   },
   "outputs": [],
   "source": [
    "\n",
    "# plot one of the Roll vs. index\n",
    "mdf_object.data.plot(y=[\"MRU_Roll\"])\n",
    "plt.ylabel('Roll [deg]')\n",
    "plt.show()\n"
   ]
  },
  {
   "cell_type": "markdown",
   "metadata": {},
   "source": [
    "The reading time has dropped to less than a second. The DateTime is implicitly imported (as we did not mention it in the filter list), so we can plot the Roll vs. the date"
   ]
  },
  {
   "cell_type": "markdown",
   "metadata": {
    "collapsed": true,
    "jupyter": {
     "outputs_hidden": true
    }
   },
   "source": [
    "#### Selecting the columns based on the column names and labels\n",
    "\n",
    "In the make_report() output it can be seen that each channel in the MDF file has a unique name which is not very self-explanatory (such as *BALDER_UI1_A130_VI18*) and a label with a description such as *HZ3 - AX - 03* which is the HZ3 location with the acceleration in x direction. We can also filter on the label since the filter_list argument consists of a list of regular expressions. The first regular expression is always applied on the channel *name*, whereas all the next regular expressions are applied on the channel *labels*. So we can select all the HZ3 accelerations by doing\n"
   ]
  },
  {
   "cell_type": "code",
   "execution_count": null,
   "metadata": {
    "ExecuteTime": {
     "end_time": "2024-04-13T08:29:34.317159Z",
     "start_time": "2024-04-13T08:29:33.715214Z"
    }
   },
   "outputs": [],
   "source": [
    "mdf_object.set_column_selection(filter_list=[\"^BALDER\", \"HZ3.*A[XYZ]\"])\n",
    "mdf_object.import_data()\n",
    "names3 = mdf_object.make_report(show_loaded_data_only=True)\n"
   ]
  },
  {
   "cell_type": "markdown",
   "metadata": {},
   "source": [
    "So in this case we have first selected all the channels with a record name starting with `^BALDER` (the `^` symbol matches the start of a string) and from that list we have selected all the channels with a label with `HZ3.*A[XYZ]`. Note that the `.*` matches a string of arbitrary length (also empty) with any character and the part with `[XYZ]` matches the `X` of `Y` or `Z` character. So using this filter list, we have now loaded the HZ3 AX and AY component (as AZ is not available). Note that the MRU_Roll component is still available from the previous round. \n",
    "\n",
    "We have used the *make_report()* method again to show the contents of the mdf_object data. The *show_loaded_data_only* flags is used to suppress all the columns which are available in the MDF file but have not been loaded yet. The column names in the table shown by *make_report* are returned to the *names* list. We can use this list to access the data frame column names of the column we want to use. In this case, we first extract the names of the HZ3 AX and AY column, which are stored in the one and two index of this names list (as you can see from the *cnt* column in the table). Get the names and plot the data"
   ]
  },
  {
   "cell_type": "code",
   "execution_count": null,
   "metadata": {
    "ExecuteTime": {
     "end_time": "2024-04-13T08:31:38.103770Z",
     "start_time": "2024-04-13T08:29:34.318820Z"
    }
   },
   "outputs": [],
   "source": [
    "hz3x_name = names3[1]\n",
    "hz3y_name = names3[2]\n",
    "ax = mdf_object.data.plot(y=[hz3x_name, hz3y_name])\n",
    "\n",
    "# this is only required to replace the default labels (which are the column names) to\n",
    "# something meaning full\n",
    "lines, labels = ax.get_legend_handles_labels()\n",
    "ax.legend(lines[:2], [\"HZ3 - AX\", \"HZ3 - AY\"], loc=\"best\")\n",
    "plt.show()"
   ]
  },
  {
   "cell_type": "markdown",
   "metadata": {},
   "source": [
    "We can extend the *filter_list* with more labels search patterns if we want. For instance, if you want to load all the channels from the RX4 and the Tower you can do"
   ]
  },
  {
   "cell_type": "code",
   "execution_count": null,
   "metadata": {
    "ExecuteTime": {
     "end_time": "2024-04-13T08:31:40.168460Z",
     "start_time": "2024-04-13T08:31:38.107217Z"
    }
   },
   "outputs": [],
   "source": [
    "mdf_object.set_column_selection(filter_list=[\"^BALDER\", \"Tower.*\", \"RX4\"])\n",
    "mdf_object.import_data()\n",
    "mdf_object.make_report(show_loaded_data_only=True)"
   ]
  },
  {
   "cell_type": "markdown",
   "metadata": {},
   "source": [
    "You can see that both the SB and PS Tower channels are loaded and also the RX4. The HZ3 was loaded in the previous call already. In this way, you can extend the channels being loaded.  \n",
    "\n",
    "Remember that the first pattern in the *filter_list* (`^BALDER`) applies to the name of the record, all the following patterns apply to the labels. In case you want to select multiple columns based on the name field of the record you have to use the regular expression which `|`, which means `or`. For instance, load the latitude and longitude\t"
   ]
  },
  {
   "cell_type": "code",
   "execution_count": null,
   "metadata": {
    "ExecuteTime": {
     "end_time": "2024-04-13T08:31:42.557515Z",
     "start_time": "2024-04-13T08:31:40.169691Z"
    }
   },
   "outputs": [],
   "source": [
    "mdf_object.set_column_selection(filter_list=[\"GPS_Lat.*|GPS_Lon.*\"])\n",
    "mdf_object.import_data()\n",
    "mdf_object.make_report(show_loaded_data_only=True)"
   ]
  },
  {
   "cell_type": "markdown",
   "metadata": {},
   "source": [
    "Now we have included the latitude and longitude column. We can display some information on the locations as follows"
   ]
  },
  {
   "cell_type": "code",
   "execution_count": null,
   "metadata": {
    "ExecuteTime": {
     "end_time": "2024-04-13T08:31:42.572858Z",
     "start_time": "2024-04-13T08:31:42.558992Z"
    }
   },
   "outputs": [],
   "source": [
    "mdf_object.data[[\"GPS_LatitudeDez\", \"GPS_LongitudeDez\"]].describe()"
   ]
  },
  {
   "cell_type": "code",
   "execution_count": null,
   "metadata": {},
   "outputs": [],
   "source": []
  }
 ],
 "metadata": {
  "kernelspec": {
   "display_name": "Python 3 (ipykernel)",
   "language": "python",
   "name": "python3"
  },
  "language_info": {
   "codemirror_mode": {
    "name": "ipython",
    "version": 3
   },
   "file_extension": ".py",
   "mimetype": "text/x-python",
   "name": "python",
   "nbconvert_exporter": "python",
   "pygments_lexer": "ipython3",
   "version": "3.10.12"
  }
 },
 "nbformat": 4,
 "nbformat_minor": 4
}
